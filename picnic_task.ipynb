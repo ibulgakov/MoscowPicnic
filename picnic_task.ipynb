{
 "cells": [
  {
   "cell_type": "markdown",
   "metadata": {},
   "source": [
    "# Пикник в Москве"
   ]
  },
  {
   "cell_type": "markdown",
   "metadata": {},
   "source": [
    "## Intro\n",
    "\n",
    "Что делают программисты? Правильно, они делают понятные вещи странными способами.\n",
    "\n",
    "Смотрят в окно, например: https://www.isitdarkoutside.com\n",
    "\n",
    "Попробуем узнать, где в Москве лучше всего устроить летний пикник.\n",
    "\n",
    "Но вместо того, чтобы спрашивать друзей и гулять по окрестностям, попробуем сделать это аналитически."
   ]
  },
  {
   "cell_type": "code",
   "execution_count": null,
   "metadata": {},
   "outputs": [],
   "source": [
    "import json\n",
    "import numpy as np\n",
    "import requests"
   ]
  },
  {
   "cell_type": "markdown",
   "metadata": {},
   "source": [
    "## Получим данные\n",
    "\n",
    "Документация: https://apidata.mos.ru/Docs\n",
    "\n",
    "Получить токен: https://apidata.mos.ru/Account/Login"
   ]
  },
  {
   "cell_type": "code",
   "execution_count": null,
   "metadata": {},
   "outputs": [],
   "source": [
    "# TODO получить токен с mos.ru, положить его в правильный файл и скачать датасет \n",
    "with open('./token.txt', 'r') as token:\n",
    "    apiKey = token.read()\n",
    "\n",
    "req_template = 'https://apidata.mos.ru/v1/{}/?api_key={}'\n",
    "dataset_path = 'datasets/912/rows'  # это датасет про все места для пикников в Москве\n",
    "\n",
    "response = requests.get(req_template.format(dataset_path, apiKey))"
   ]
  },
  {
   "cell_type": "code",
   "execution_count": null,
   "metadata": {},
   "outputs": [],
   "source": [
    "data = response.json()"
   ]
  },
  {
   "cell_type": "code",
   "execution_count": null,
   "metadata": {},
   "outputs": [],
   "source": [
    "response, len(data)"
   ]
  },
  {
   "cell_type": "code",
   "execution_count": null,
   "metadata": {},
   "outputs": [],
   "source": [
    "data[0]"
   ]
  },
  {
   "cell_type": "markdown",
   "metadata": {},
   "source": [
    "Отлично, у нас есть данные про 156 потенциальных мест для пикника в таком формате\n",
    "\n",
    "Сохраним это куда-нибудь."
   ]
  },
  {
   "cell_type": "code",
   "execution_count": null,
   "metadata": {},
   "outputs": [],
   "source": [
    "with open('picnic.json', 'w') as f:\n",
    "    json.dump(data, f)"
   ]
  },
  {
   "cell_type": "markdown",
   "metadata": {},
   "source": [
    "## Изучим данные"
   ]
  },
  {
   "cell_type": "code",
   "execution_count": null,
   "metadata": {},
   "outputs": [],
   "source": [
    "picnic_data = [row['Cells'] for row in data]\n",
    "\n",
    "print('Всего мест', len(picnic_data))"
   ]
  },
  {
   "cell_type": "code",
   "execution_count": null,
   "metadata": {},
   "outputs": [],
   "source": [
    "picnic_data[0]"
   ]
  },
  {
   "cell_type": "markdown",
   "metadata": {},
   "source": [
    "Итак, у нас есть данные про (навскидку):\n",
    "* координаты места\n",
    "* его имя, адрес и всякие контакты (веб-сайт, район москвы, ...)\n",
    "* его свойства (наличие wifi, туалетов, ...)\n",
    "\n",
    "Важно понимать, что эти данные есть не всегда. \n",
    "\n",
    "Например, для Алтуфьевского заказника нет никакой информации про его работу зимой."
   ]
  },
  {
   "cell_type": "markdown",
   "metadata": {},
   "source": [
    "## Проверим полноту данных\n",
    "\n",
    "Перед тем, как делать выводы из имеющихся данных, полезно посмотреть на их полноту.\n",
    "\n",
    "Вдруг мы анализируем информацию, которой у нас вообще нет?"
   ]
  },
  {
   "cell_type": "code",
   "execution_count": null,
   "metadata": {},
   "outputs": [],
   "source": [
    "for field in picnic_data[0].keys():\n",
    "    picnics_without_field = sum([1 for picnic in picnic_data if picnic[field] is None])\n",
    "    if picnics_without_field > 0:\n",
    "        print('Поле {} не заполнено у {} мест'.format(field, picnics_without_field))"
   ]
  },
  {
   "cell_type": "markdown",
   "metadata": {},
   "source": [
    "Поскольку у нас всего 156 мест, то можно понимать, какими полями интересоваться в принципе бесполезно."
   ]
  },
  {
   "cell_type": "markdown",
   "metadata": {},
   "source": [
    "# Преобразуем данные\n",
    "\n",
    "```'HasWifi': 'нет'```\n",
    "\n",
    "Не очень удобный формат для работы.\n",
    "Строки ```\"да\"/\"нет\"``` лучше представить как логические (булевы) переменные (```True/False```).\n",
    "\n",
    "Так:\n",
    "\n",
    "1) данные будут занимать меньше места, т.к. строка ```\"нет\"``` занимает больше памяти, чем ```False```;\n",
    "\n",
    "2) с данными будет удобнее работать.\n",
    "\n",
    "Для этого:\n",
    "* определите все поля, которые можно представить булевыми переменными;\n",
    "* перезапишите значения этих полей."
   ]
  },
  {
   "cell_type": "code",
   "execution_count": null,
   "metadata": {},
   "outputs": [],
   "source": [
    "# TODO бинаризовать данные\n"
   ]
  },
  {
   "cell_type": "code",
   "execution_count": null,
   "metadata": {},
   "outputs": [],
   "source": [
    "if not picnic_data[0]['HasWifi']:  # куда красивее, чем picnic_data[0]['HasWifi'] == 'нет'\n",
    "    print('В {} нет Wifi... :('.format(picnic_data[0]['ObjectName']))"
   ]
  },
  {
   "cell_type": "markdown",
   "metadata": {},
   "source": [
    "Ещё можно бы удалить поля, которые нам не очень интересны (любая информация про зиму не нужна в контексте летнего пикника).\n",
    "\n",
    "Но сейчас не будем."
   ]
  },
  {
   "cell_type": "markdown",
   "metadata": {},
   "source": [
    "С булевыми полями всё ясно, а какие варианты бывают у \"Paid\"?"
   ]
  },
  {
   "cell_type": "code",
   "execution_count": null,
   "metadata": {},
   "outputs": [],
   "source": [
    "set([picnic['Paid'] for picnic in picnic_data])"
   ]
  },
  {
   "cell_type": "markdown",
   "metadata": {},
   "source": [
    "Хм, не очень интересно..\n",
    "\n",
    "Кстати, та же история с Lighting -- нигде нет дополнительного освещения. :("
   ]
  },
  {
   "cell_type": "code",
   "execution_count": null,
   "metadata": {},
   "outputs": [],
   "source": [
    "set([(picnic['WebSite'], picnic['Email']) for picnic in picnic_data])"
   ]
  },
  {
   "cell_type": "markdown",
   "metadata": {},
   "source": [
    "Т.к. поле ```WebSite``` было заполнено у всех мест, то ясно, что разнообразия в веб-сайтах нет."
   ]
  },
  {
   "cell_type": "markdown",
   "metadata": {},
   "source": [
    "# Займёмся делом\n",
    "## То есть порисуем красивые картинки"
   ]
  },
  {
   "cell_type": "markdown",
   "metadata": {},
   "source": [
    "Самая простая инфографика -- просто диаграммы со статистиками про разные свойства мест для пикника.\n",
    "\n",
    "Посмотрим, насколько Москва в принципе обустроена."
   ]
  },
  {
   "cell_type": "code",
   "execution_count": null,
   "metadata": {},
   "outputs": [],
   "source": [
    "import matplotlib.pyplot as plt\n",
    "%matplotlib inline  # это нужно, чтобы графики рисовались прямо в ноутбуке\n",
    "plt.rcParams.update({'font.size': 20})"
   ]
  },
  {
   "cell_type": "code",
   "execution_count": null,
   "metadata": {},
   "outputs": [],
   "source": [
    "properties = (\n",
    "    'HasCashMachine',\n",
    "    'HasEatery',\n",
    "    'HasFirstAidPost',\n",
    "    'HasMusic',\n",
    "    'HasToilet',\n",
    "    'HasWifi'\n",
    ")"
   ]
  },
  {
   "cell_type": "code",
   "execution_count": null,
   "metadata": {
    "scrolled": true
   },
   "outputs": [],
   "source": [
    "fig, axes= plt.subplots(2, 3, figsize=(15,10))\n",
    "total = len(picnic_data)\n",
    "\n",
    "for i, ax in enumerate(axes.flatten()):\n",
    "    picnic_property = properties[i]\n",
    "    has_property = sum(1 for picnic in picnic_data if picnic[picnic_property])\n",
    "    ax.pie([has_property, total - has_property], labels=['да', 'нет'], radius=1, pctdistance=0.9)\n",
    "    ax.set_title(picnic_property[3:])\n",
    "\n",
    "plt.show()"
   ]
  },
  {
   "cell_type": "markdown",
   "metadata": {},
   "source": [
    "По районам:"
   ]
  },
  {
   "cell_type": "code",
   "execution_count": null,
   "metadata": {},
   "outputs": [],
   "source": [
    "fig1, ax1 = plt.subplots(figsize=(15, 15))\n",
    "\n",
    "labels = set([picnic['District'] for picnic in picnic_data])\n",
    "sizes = [sum([1 for picnic in picnic_data if picnic['District'] == label]) for label in labels]\n",
    "\n",
    "# отсортируем по количеству мест для пикника в районе\n",
    "labels, sizes = zip(*sorted(zip(labels, sizes), key=lambda x: x[1], reverse=True))\n",
    "\n",
    "ax1.pie(sizes, labels=labels, explode=[0.2] * len(labels), autopct='%1.1f%%')\n",
    "ax1.axis('equal')  # Equal aspect ratio ensures that pie is drawn as a circle.\n",
    "\n",
    "plt.show()\n"
   ]
  },
  {
   "cell_type": "markdown",
   "metadata": {},
   "source": [
    "Посмотрим на координаты мест для пикника."
   ]
  },
  {
   "cell_type": "code",
   "execution_count": null,
   "metadata": {},
   "outputs": [],
   "source": [
    "# TODO: подставьте координаты своего дома. Узнать их можно, например, в Яндекс.Картах.\n",
    "my_coords = # . . ."
   ]
  },
  {
   "cell_type": "code",
   "execution_count": null,
   "metadata": {},
   "outputs": [],
   "source": [
    "def plot_picnic(data, where_am_i=my_coords):\n",
    "    plt.rcParams.update({'font.size': 20})\n",
    "    \n",
    "    points = np.array([picnic['geoData']['coordinates'] for picnic in data])\n",
    "\n",
    "    plt.figure(figsize=(10,7))\n",
    "    plt.plot(points[:,0], points[:,1], 'o', markersize=7, color='gray')\n",
    "    plt.plot(*where_am_i, 'v', markersize=10, color='black')\n",
    "    plt.annotate('я тут!', xy=where_am_i, xytext=(-15, -20), textcoords='offset points')\n",
    "    plt.grid(True)\n",
    "    plt.xlabel('долгота')\n",
    "    plt.ylabel('широта')\n",
    "    plt.show()"
   ]
  },
  {
   "cell_type": "code",
   "execution_count": null,
   "metadata": {},
   "outputs": [],
   "source": [
    "plot_picnic(picnic_data)"
   ]
  },
  {
   "cell_type": "markdown",
   "metadata": {},
   "source": [
    "Как-то нам не повезло -- все парки довольно далеко.\n",
    "\n",
    "Не очень ясно, какой парк ближе, да и всё серое. Давайте раскрасим эту картинку!"
   ]
  },
  {
   "cell_type": "code",
   "execution_count": null,
   "metadata": {},
   "outputs": [],
   "source": [
    "import matplotlib.cm as cm\n",
    "\n",
    "def plot_picnic_colored(data, where_am_i=my_coords):\n",
    "    plt.rcParams.update({'font.size': 20})\n",
    "    \n",
    "    titles = np.array([picnic['Address'] for picnic in data])\n",
    "    points = np.array([picnic['geoData']['coordinates'] for picnic in data])\n",
    "    # получим расстояния\n",
    "    distances = [np.linalg.norm(point - where_am_i) for point in points]\n",
    "    # нормализуем их, чтобы было красивое распределение\n",
    "    distances_norm = [(distance - min(distances)) / (max(distances) - min(distances)) for distance in distances]\n",
    "    # и нормализованные цвета для них, чем краснее -- тем ближе\n",
    "    colors = map(cm.autumn, distances_norm)\n",
    "    \n",
    "    plt.figure(figsize=(10,7))\n",
    "    for point, color, title in zip(points, colors, titles):\n",
    "        plt.plot(*point, 'o', markersize=7, color=color)\n",
    "    plt.plot(*where_am_i, 'v', markersize=10, color='black')\n",
    "    plt.annotate('я тут!', xy=where_am_i, xytext=(-15, -20), textcoords='offset points')\n",
    "    plt.grid(True)\n",
    "    plt.xlabel('долгота')\n",
    "    plt.ylabel('широта')\n",
    "    plt.show()"
   ]
  },
  {
   "cell_type": "code",
   "execution_count": null,
   "metadata": {},
   "outputs": [],
   "source": [
    "plot_picnic_colored(picnic_data)"
   ]
  },
  {
   "cell_type": "markdown",
   "metadata": {},
   "source": [
    "Давайте научимся фильтровать места для пикника по каким-то свойствам!"
   ]
  },
  {
   "cell_type": "code",
   "execution_count": null,
   "metadata": {},
   "outputs": [],
   "source": [
    "import matplotlib.cm as cm\n",
    "\n",
    "def plot_only_good_picnic(data, condition=lambda x: True, where_am_i=my_coords):\n",
    "    plt.rcParams.update({'font.size': 20})\n",
    "    \n",
    "    data = [picnic for picnic in data if condition(picnic) == True]\n",
    "    plot_picnic_colored(data, where_am_i)"
   ]
  },
  {
   "cell_type": "code",
   "execution_count": null,
   "metadata": {},
   "outputs": [],
   "source": [
    "plot_only_good_picnic(picnic_data)"
   ]
  },
  {
   "cell_type": "code",
   "execution_count": null,
   "metadata": {},
   "outputs": [],
   "source": [
    "def has_toilet(place):\n",
    "    return place['HasToilet']"
   ]
  },
  {
   "cell_type": "code",
   "execution_count": null,
   "metadata": {},
   "outputs": [],
   "source": [
    "plot_only_good_picnic(picnic_data, condition=has_toilet)"
   ]
  },
  {
   "cell_type": "code",
   "execution_count": null,
   "metadata": {},
   "outputs": [],
   "source": [
    "def has_music_and_food(place):\n",
    "    return place['HasMusic'] and place['HasEatery']"
   ]
  },
  {
   "cell_type": "code",
   "execution_count": null,
   "metadata": {},
   "outputs": [],
   "source": [
    "plot_only_good_picnic(picnic_data, condition=has_music_and_food)"
   ]
  },
  {
   "cell_type": "markdown",
   "metadata": {},
   "source": [
    "## Дополнительные идеи\n",
    "\n",
    "* подписать на карте адрес/название у 3 ближайших парков\n",
    "* составить другие условия (как has_music_and_food)\n",
    "* . . . anything!"
   ]
  }
 ],
 "metadata": {
  "kernelspec": {
   "display_name": "Python 3",
   "language": "python",
   "name": "python3"
  },
  "language_info": {
   "codemirror_mode": {
    "name": "ipython",
    "version": 3
   },
   "file_extension": ".py",
   "mimetype": "text/x-python",
   "name": "python",
   "nbconvert_exporter": "python",
   "pygments_lexer": "ipython3",
   "version": "3.5.2"
  }
 },
 "nbformat": 4,
 "nbformat_minor": 2
}

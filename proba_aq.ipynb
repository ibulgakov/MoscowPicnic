{
 "cells": [
  {
   "cell_type": "markdown",
   "metadata": {},
   "source": [
    "# Пикник в Москве"
   ]
  },
  {
   "cell_type": "markdown",
   "metadata": {},
   "source": [
    "## Intro\n",
    "\n",
    "Что делают программисты? Правильно, они делают понятные вещи странными способами.\n",
    "\n",
    "Смотрят в окно, например: https://www.isitdarkoutside.com\n",
    "\n",
    "Попробуем узнать, где в Москве лучше всего устроить летний пикник.\n",
    "\n",
    "Но вместо того, чтобы спрашивать друзей и гулять по окрестностям, попробуем сделать это аналитически."
   ]
  },
  {
   "cell_type": "code",
   "execution_count": 8,
   "metadata": {},
   "outputs": [],
   "source": [
    "import json\n",
    "import numpy as np\n",
    "import requests"
   ]
  },
  {
   "cell_type": "markdown",
   "metadata": {},
   "source": [
    "## Получим данные\n",
    "\n",
    "Документация: https://apidata.mos.ru/Docs"
   ]
  },
  {
   "cell_type": "code",
   "execution_count": 9,
   "metadata": {},
   "outputs": [],
   "source": [
    "with open('./token.txt', 'r') as token:\n",
    "    apiKey = token.read()\n",
    "\n",
    "req_template = 'https://apidata.mos.ru/v1/{}/?api_key={}'\n",
    "\n",
    "response = requests.get(req_template.format('datasets/912/rows', apiKey)) # это датасет про парки Москвы"
   ]
  },
  {
   "cell_type": "code",
   "execution_count": 10,
   "metadata": {},
   "outputs": [],
   "source": [
    "data = response.json()"
   ]
  },
  {
   "cell_type": "code",
   "execution_count": 11,
   "metadata": {},
   "outputs": [
    {
     "data": {
      "text/plain": [
       "(<Response [200]>, 156)"
      ]
     },
     "execution_count": 11,
     "metadata": {},
     "output_type": "execute_result"
    }
   ],
   "source": [
    "response, len(data)"
   ]
  },
  {
   "cell_type": "code",
   "execution_count": 12,
   "metadata": {},
   "outputs": [
    {
     "data": {
      "text/plain": [
       "{'Cells': {'Address': 'Алтуфьевское шоссе, дом 94',\n",
       "  'AdmArea': 'Северо-Восточный административный округ',\n",
       "  'ClarificationOfWorkingHoursWinter': None,\n",
       "  'DimensionsWinter': [],\n",
       "  'DisabilityFriendly': 'не приспособлен',\n",
       "  'District': 'район Бибирево',\n",
       "  'Email': 'leshoz_sewer@mail.ru',\n",
       "  'EquipmentRentalComments': None,\n",
       "  'HasCashMachine': 'нет',\n",
       "  'HasDressingRoom': 'нет',\n",
       "  'HasEatery': 'нет',\n",
       "  'HasEquipmentRental': 'нет',\n",
       "  'HasFirstAidPost': 'нет',\n",
       "  'HasMusic': 'нет',\n",
       "  'HasTechService': 'нет',\n",
       "  'HasToilet': 'да',\n",
       "  'HasWifi': 'нет',\n",
       "  'HelpPhone': '(495) 579-29-76',\n",
       "  'HelpPhoneExtension': None,\n",
       "  'Lighting': 'без дополнительного освещения',\n",
       "  'NameWinter': None,\n",
       "  'ObjectName': 'Планируемый к созданию Комплексный заказник Алтуфьевский',\n",
       "  'Paid': 'бесплатно',\n",
       "  'PaidComments': None,\n",
       "  'PhotoWinter': [],\n",
       "  'Seats': 0,\n",
       "  'ServicesWinter': [],\n",
       "  'SurfaceTypeWinter': None,\n",
       "  'TechServiceComments': None,\n",
       "  'UsagePeriodWinter': None,\n",
       "  'WebSite': 'www.dpioos.ru',\n",
       "  'WorkingHoursWinter': [],\n",
       "  'geoData': {'coordinates': [37.596279295939105, 55.903872183894364],\n",
       "   'type': 'Point'},\n",
       "  'global_id': 407124730},\n",
       " 'Number': 1,\n",
       " 'global_id': 407124730}"
      ]
     },
     "execution_count": 12,
     "metadata": {},
     "output_type": "execute_result"
    }
   ],
   "source": [
    "data[0]"
   ]
  },
  {
   "cell_type": "markdown",
   "metadata": {},
   "source": [
    "Отлично, у нас есть данные про 156 парков в таком формате\n",
    "\n",
    "Сохраним это куда-нибудь."
   ]
  },
  {
   "cell_type": "code",
   "execution_count": 13,
   "metadata": {},
   "outputs": [],
   "source": [
    "with open('picnic.json', 'w') as f:\n",
    "    json.dump(data, f)"
   ]
  },
  {
   "cell_type": "markdown",
   "metadata": {},
   "source": [
    "## Изучим данные"
   ]
  },
  {
   "cell_type": "code",
   "execution_count": 14,
   "metadata": {},
   "outputs": [
    {
     "name": "stdout",
     "output_type": "stream",
     "text": [
      "Всего мест  156\n"
     ]
    }
   ],
   "source": [
    "picnic = [row['Cells'] for row in data]\n",
    "\n",
    "print('Всего мест ', len(picnic))"
   ]
  },
  {
   "cell_type": "code",
   "execution_count": 24,
   "metadata": {},
   "outputs": [
    {
     "data": {
      "text/plain": [
       "{'Address': 'Алтуфьевское шоссе, дом 94',\n",
       " 'AdmArea': 'Северо-Восточный административный округ',\n",
       " 'ClarificationOfWorkingHoursWinter': None,\n",
       " 'DimensionsWinter': [],\n",
       " 'DisabilityFriendly': 'не приспособлен',\n",
       " 'District': 'район Бибирево',\n",
       " 'Email': 'leshoz_sewer@mail.ru',\n",
       " 'EquipmentRentalComments': None,\n",
       " 'HasCashMachine': 'нет',\n",
       " 'HasDressingRoom': 'нет',\n",
       " 'HasEatery': 'нет',\n",
       " 'HasEquipmentRental': 'нет',\n",
       " 'HasFirstAidPost': 'нет',\n",
       " 'HasMusic': 'нет',\n",
       " 'HasTechService': 'нет',\n",
       " 'HasToilet': 'да',\n",
       " 'HasWifi': 'нет',\n",
       " 'HelpPhone': '(495) 579-29-76',\n",
       " 'HelpPhoneExtension': None,\n",
       " 'Lighting': 'без дополнительного освещения',\n",
       " 'NameWinter': None,\n",
       " 'ObjectName': 'Планируемый к созданию Комплексный заказник Алтуфьевский',\n",
       " 'Paid': 'бесплатно',\n",
       " 'PaidComments': None,\n",
       " 'PhotoWinter': [],\n",
       " 'Seats': 0,\n",
       " 'ServicesWinter': [],\n",
       " 'SurfaceTypeWinter': None,\n",
       " 'TechServiceComments': None,\n",
       " 'UsagePeriodWinter': None,\n",
       " 'WebSite': 'www.dpioos.ru',\n",
       " 'WorkingHoursWinter': [],\n",
       " 'geoData': {'coordinates': [37.596279295939105, 55.903872183894364],\n",
       "  'type': 'Point'},\n",
       " 'global_id': 407124730}"
      ]
     },
     "execution_count": 24,
     "metadata": {},
     "output_type": "execute_result"
    }
   ],
   "source": [
    "picnic[0]"
   ]
  },
  {
   "cell_type": "code",
   "execution_count": 15,
   "metadata": {},
   "outputs": [
    {
     "name": "stdout",
     "output_type": "stream",
     "text": [
      "Координаты: [37.5962793  55.90387218] [37.62439579 55.6041267 ] [37.46735372 55.65470589] ...\n",
      "Удобства: ... (0, 0, 1) (0, 0, 1) (0, 0, 1) (0, 0, 1) (0, 0, 1) ...\n"
     ]
    }
   ],
   "source": [
    "latlon =  np.array([r['geoData']['coordinates'] for r in picnic])\n",
    "print('Координаты:', *latlon[:3], \"...\")\n",
    "convenience = [\n",
    "        (\n",
    "            int(r['HasWifi'] != 'нет'), \n",
    "            int(r['HasToilet'] != 'нет'), \n",
    "            int(r['Paid'] == 'бесплатно')\n",
    "        ) \n",
    "        for r in picnic]\n",
    "print('Удобства:', '...', *convenience[145:150], '...')\n"
   ]
  },
  {
   "cell_type": "code",
   "execution_count": 16,
   "metadata": {},
   "outputs": [],
   "source": [
    "def topN(expected, data, N):\n",
    "    norms = list(map(lambda row, number: (np.linalg.norm(row - expected), number), \n",
    "            data, range(len(data)) ))      # пары (расстояние, индекс)\n",
    "    norms.sort(key=lambda r: r[0])         # рейтинг\n",
    "    # множество индексов\n",
    "    return set(map(lambda r: r[1], norms[:N]))"
   ]
  },
  {
   "cell_type": "code",
   "execution_count": 19,
   "metadata": {},
   "outputs": [
    {
     "name": "stdout",
     "output_type": "stream",
     "text": [
      "Мы рассматриваем 19 ближайших и удобных мест. Самое интересное:\n",
      "Липецкая улица, дом 10, корпус 2\n",
      "\tWifi: да, WC: да, Цена: бесплатно\n"
     ]
    }
   ],
   "source": [
    "me_geo = np.array([37.740783, 55.687649])  # широта, долгота\n",
    "me_conv = np.array([1.0, 1.0, 1.0])        # хочу всё: wifi, туалет и чтобы бесплатно!\n",
    "\n",
    "depth = 1\n",
    "A, B = set(), set()\n",
    "# пока в пересечении ничего нет - расширяем поиск\n",
    "while not A & B: \n",
    "    A = topN(me_geo, latlon, depth)\n",
    "    B = topN(me_conv, convenience, depth)\n",
    "    depth += 1\n",
    "    \n",
    "print('Мы рассматриваем {} ближайших и удобных мест. Самое интересное:'.format(depth))\n",
    "for picnics in A & B:\n",
    "    row = picnic[picnics]\n",
    "    print(row['Address'])\n",
    "    print('\\tWifi: {}, WC: {}, Цена: {}'.format(row['HasWifi'], row['HasToilet'], row['Paid']))"
   ]
  },
  {
   "cell_type": "code",
   "execution_count": 22,
   "metadata": {},
   "outputs": [
    {
     "data": {
      "image/png": "[encoded data removed]",
      "text/plain": [
       "<Figure size 720x504 with 1 Axes>"
      ]
     },
     "metadata": {
      "needs_background": "light"
     },
     "output_type": "display_data"
    }
   ],
   "source": [
    "import matplotlib.pyplot as plt\n",
    "%matplotlib inline\n",
    "plt.rcParams.update({'font.size': 20})\n",
    "\n",
    "closest = np.array([latlon[i] for i in A])\n",
    "result = np.array([latlon[i] for i in A & B])\n",
    "plt.figure(figsize=(10,7))\n",
    "plt.plot(closest[:,0], closest[:,1], 'o', markersize=7, color='gray')\n",
    "plt.plot(result[:,0], result[:,1], 'v', markersize=10, color='black')\n",
    "plt.plot(*me_geo, '*', markersize=15, color='black')\n",
    "plt.annotate('дом', xy=me_geo, xytext=(-15, -20), textcoords='offset points')\n",
    "plt.annotate('каток!', xy=result[0], xytext=(-20, 10), textcoords='offset points')\n",
    "plt.grid(True)\n",
    "plt.xlabel('долгота')\n",
    "plt.ylabel('широта')\n",
    "plt.show()"
   ]
  },
  {
   "cell_type": "code",
   "execution_count": null,
   "metadata": {},
   "outputs": [],
   "source": []
  }
 ],
 "metadata": {
  "kernelspec": {
   "display_name": "Python 3",
   "language": "python",
   "name": "python3"
  },
  "language_info": {
   "codemirror_mode": {
    "name": "ipython",
    "version": 3
   },
   "file_extension": ".py",
   "mimetype": "text/x-python",
   "name": "python",
   "nbconvert_exporter": "python",
   "pygments_lexer": "ipython3",
   "version": "3.5.2"
  }
 },
 "nbformat": 4,
 "nbformat_minor": 2
}
